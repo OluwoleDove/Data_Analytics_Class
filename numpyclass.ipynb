{
 "cells": [
  {
   "cell_type": "markdown",
   "id": "14e43451-0573-49ce-8b88-8f8eea87e2e4",
   "metadata": {},
   "source": [
    "<b> NUMPY   |    PANDAS    |     MATPLOTLIB </b>"
   ]
  },
  {
   "cell_type": "code",
   "execution_count": 1,
   "id": "55769ff7-ed2a-45f9-9ed6-22ff7a2e23be",
   "metadata": {},
   "outputs": [
    {
     "data": {
      "text/plain": [
       "'1.20.3'"
      ]
     },
     "execution_count": 1,
     "metadata": {},
     "output_type": "execute_result"
    }
   ],
   "source": [
    "import numpy as np\n",
    "np.__version__"
   ]
  },
  {
   "cell_type": "code",
   "execution_count": 2,
   "id": "c766cffe-7c5b-45d8-94f3-801c48345878",
   "metadata": {},
   "outputs": [
    {
     "data": {
      "text/plain": [
       "array([ 0,  1,  2,  3,  4,  5,  6,  7,  8,  9, 10])"
      ]
     },
     "execution_count": 2,
     "metadata": {},
     "output_type": "execute_result"
    }
   ],
   "source": [
    "np.arange(11)"
   ]
  },
  {
   "cell_type": "code",
   "execution_count": 3,
   "id": "f69ece33-5527-46a9-9997-defcf0c41549",
   "metadata": {},
   "outputs": [
    {
     "data": {
      "text/plain": [
       "array(['rice', 'beans', 'yam', 'potato', 'garri'], dtype='<U6')"
      ]
     },
     "execution_count": 3,
     "metadata": {},
     "output_type": "execute_result"
    }
   ],
   "source": [
    "food_arr = ['rice', 'beans', 'yam', 'potato', 'garri']\n",
    "np.array(food_arr)"
   ]
  },
  {
   "cell_type": "markdown",
   "id": "8a50f6d5-1bf0-4d3f-ab20-b0b03996731c",
   "metadata": {},
   "source": [
    "<b>ndarray - n dimensional array</b>"
   ]
  },
  {
   "cell_type": "code",
   "execution_count": 4,
   "id": "3df61091-b42e-495e-ab2f-9a9aa4153443",
   "metadata": {},
   "outputs": [
    {
     "data": {
      "text/plain": [
       "array([[1, 2, 3],\n",
       "       [4, 5, 6]])"
      ]
     },
     "execution_count": 4,
     "metadata": {},
     "output_type": "execute_result"
    }
   ],
   "source": [
    "arr = [[1, 2, 3], [4, 5, 6]]\n",
    "np.array(arr)"
   ]
  },
  {
   "cell_type": "code",
   "execution_count": 5,
   "id": "676f1bd6-395b-4ae0-ae2e-783943d95d32",
   "metadata": {},
   "outputs": [
    {
     "data": {
      "text/plain": [
       "3"
      ]
     },
     "execution_count": 5,
     "metadata": {},
     "output_type": "execute_result"
    }
   ],
   "source": [
    "arr = [[[1, 2, 3], [4, 5, 6]], [[7, 8, 9], [10, 11, 12]]]\n",
    "np.array(arr).ndim"
   ]
  },
  {
   "cell_type": "code",
   "execution_count": 6,
   "id": "de4fefdf-2d8f-4068-981d-45d43588f6c6",
   "metadata": {},
   "outputs": [
    {
     "data": {
      "text/plain": [
       "array([[[ 1,  2,  3],\n",
       "        [ 4,  5,  6]],\n",
       "\n",
       "       [[ 7,  8,  9],\n",
       "        [10, 11, 12]]])"
      ]
     },
     "execution_count": 6,
     "metadata": {},
     "output_type": "execute_result"
    }
   ],
   "source": [
    "arr = [[[1, 2, 3], [4, 5, 6]], [[7, 8, 9], [10, 11, 12]]]\n",
    "np.array(arr)"
   ]
  },
  {
   "cell_type": "code",
   "execution_count": 7,
   "id": "fbb93f1f-3c20-4390-aa98-f522e1274c1a",
   "metadata": {},
   "outputs": [
    {
     "name": "stdout",
     "output_type": "stream",
     "text": [
      "1\n",
      "2\n",
      "3\n",
      "4\n",
      "5\n",
      "6\n",
      "7\n",
      "8\n",
      "9\n",
      "10\n",
      "11\n",
      "12\n"
     ]
    }
   ],
   "source": [
    "for i in arr:\n",
    "    if isinstance(i, list):\n",
    "        for j in i:\n",
    "            if isinstance(j, list):\n",
    "                for k in j:\n",
    "                    print(k)\n",
    "            else:\n",
    "                print(j)\n",
    "    else:        \n",
    "        print(i)"
   ]
  },
  {
   "cell_type": "code",
   "execution_count": 8,
   "id": "bf433e50-d9a2-48fc-98d6-8940154237a5",
   "metadata": {},
   "outputs": [
    {
     "name": "stdout",
     "output_type": "stream",
     "text": [
      "(array(1), array(7))\n",
      "(array(2), array(8))\n",
      "(array(3), array(9))\n",
      "(array(4), array(10))\n",
      "(array(5), array(11))\n",
      "(array(6), array(12))\n"
     ]
    }
   ],
   "source": [
    "for i in np.nditer(arr):\n",
    "    print(i)"
   ]
  },
  {
   "cell_type": "code",
   "execution_count": 9,
   "id": "ee330f3b-35fb-4a35-8842-58181bb8f814",
   "metadata": {},
   "outputs": [
    {
     "name": "stdout",
     "output_type": "stream",
     "text": [
      "1\n",
      "2\n",
      "3\n",
      "4\n",
      "5\n",
      "6\n",
      "7\n",
      "8\n",
      "9\n",
      "10\n",
      "11\n",
      "12\n"
     ]
    }
   ],
   "source": [
    "for i in np.nditer(np.array(arr)):\n",
    "    print(i)"
   ]
  },
  {
   "cell_type": "code",
   "execution_count": 10,
   "id": "16b11f32-6beb-436f-993e-bb41f3b5a0dd",
   "metadata": {},
   "outputs": [
    {
     "name": "stdout",
     "output_type": "stream",
     "text": [
      "1\n",
      "2\n",
      "3\n",
      "7\n",
      "8\n",
      "9\n"
     ]
    }
   ],
   "source": [
    "for i in np.nditer(np.array(arr)[:, ::2]):\n",
    "    print(i)"
   ]
  },
  {
   "cell_type": "markdown",
   "id": "4d97835d-dcf2-43d3-b9b4-8854638f88a6",
   "metadata": {},
   "source": [
    "<b>GET INDEX OF ARRAY ELEMENTS</b>"
   ]
  },
  {
   "cell_type": "code",
   "execution_count": 11,
   "id": "30fad0ab-3378-4612-9627-8aa5726e94ea",
   "metadata": {},
   "outputs": [
    {
     "name": "stdout",
     "output_type": "stream",
     "text": [
      "(0, 0, 0) 1\n",
      "(0, 0, 1) 2\n",
      "(0, 0, 2) 3\n",
      "(0, 1, 0) 4\n",
      "(0, 1, 1) 5\n",
      "(0, 1, 2) 6\n",
      "(1, 0, 0) 7\n",
      "(1, 0, 1) 8\n",
      "(1, 0, 2) 9\n",
      "(1, 1, 0) 10\n",
      "(1, 1, 1) 11\n",
      "(1, 1, 2) 12\n"
     ]
    }
   ],
   "source": [
    "for index, x in np.ndenumerate(arr):\n",
    "    print(index, x)"
   ]
  },
  {
   "cell_type": "code",
   "execution_count": 12,
   "id": "08e15878-95db-4aeb-b459-d641aaeea074",
   "metadata": {},
   "outputs": [
    {
     "name": "stdout",
     "output_type": "stream",
     "text": [
      "1.0\n",
      "2.0\n",
      "3.0\n",
      "4.0\n",
      "5.0\n",
      "6.0\n",
      "7.0\n",
      "8.0\n",
      "9.0\n",
      "10.0\n",
      "11.0\n",
      "12.0\n"
     ]
    }
   ],
   "source": [
    "for i in np.nditer(np.array(arr), flags = ['buffered'], op_dtypes = ['float']):\n",
    "    print(i)"
   ]
  },
  {
   "cell_type": "code",
   "execution_count": 13,
   "id": "f66c3b6f-70bc-40eb-8ff2-45566a9ba786",
   "metadata": {},
   "outputs": [
    {
     "name": "stdout",
     "output_type": "stream",
     "text": [
      "b'1'\n",
      "b'2'\n",
      "b'3'\n",
      "b'4'\n",
      "b'5'\n",
      "b'6'\n",
      "b'7'\n",
      "b'8'\n",
      "b'9'\n",
      "b'10'\n",
      "b'11'\n",
      "b'12'\n"
     ]
    }
   ],
   "source": [
    "for i in np.nditer(np.array(arr), flags = ['buffered'], op_dtypes = ['S']):\n",
    "    print(i)"
   ]
  },
  {
   "cell_type": "code",
   "execution_count": 14,
   "id": "64e8d9e5-0f5d-49b2-a7b3-62faabf00112",
   "metadata": {},
   "outputs": [
    {
     "data": {
      "text/plain": [
       "array([1, 2, 3, 4, 5, 6, 7, 8])"
      ]
     },
     "execution_count": 14,
     "metadata": {},
     "output_type": "execute_result"
    }
   ],
   "source": [
    "arr1 = np.array([1, 2, 3, 4, 5])\n",
    "arr2 = np.array((6, 7, 8))\n",
    "newarr = np.concatenate((arr1, arr2))\n",
    "newarr"
   ]
  },
  {
   "cell_type": "code",
   "execution_count": 15,
   "id": "08eccb87-3c90-428e-a3a9-b06b7510f7d6",
   "metadata": {},
   "outputs": [
    {
     "data": {
      "text/plain": [
       "array([b'1', b'2', b'3', b'4', b'5', b'6', b'7', b'8'], dtype='|S11')"
      ]
     },
     "execution_count": 15,
     "metadata": {},
     "output_type": "execute_result"
    }
   ],
   "source": [
    "arr1 = np.array([1, 2, 3, 4, 5])\n",
    "arr2 = np.array((6, 7, 8), dtype = 'S')\n",
    "np.concatenate((arr1, arr2))"
   ]
  },
  {
   "cell_type": "code",
   "execution_count": 16,
   "id": "218c0bd7-12ce-4139-b901-c4e4acec3dae",
   "metadata": {},
   "outputs": [
    {
     "data": {
      "text/plain": [
       "[array([1, 2, 3]), array([4, 5, 6]), array([7, 8])]"
      ]
     },
     "execution_count": 16,
     "metadata": {},
     "output_type": "execute_result"
    }
   ],
   "source": [
    "np.array_split(newarr, 3)"
   ]
  },
  {
   "cell_type": "markdown",
   "id": "2a1b3c0e-f45e-4280-8bd3-5459cf6c4afb",
   "metadata": {},
   "source": [
    "6/21/23 - CLASS"
   ]
  },
  {
   "cell_type": "code",
   "execution_count": 17,
   "id": "045686a2-993e-4957-82e9-1fb7080a061b",
   "metadata": {},
   "outputs": [
    {
     "data": {
      "text/plain": [
       "array([[[1, 2],\n",
       "        [5, 6]],\n",
       "\n",
       "       [[3, 4],\n",
       "        [7, 8]]])"
      ]
     },
     "execution_count": 17,
     "metadata": {},
     "output_type": "execute_result"
    }
   ],
   "source": [
    "arr_1 = np.array([[1, 2], [3, 4]])\n",
    "arr_2 = np.array([[5, 6], [7, 8]])\n",
    "np.stack((arr_1, arr_2), axis=1)"
   ]
  },
  {
   "cell_type": "code",
   "execution_count": 18,
   "id": "889c9cd9-67fa-4d86-8846-8632f94dbfd8",
   "metadata": {},
   "outputs": [
    {
     "data": {
      "text/plain": [
       "array([[1, 2, 5, 6],\n",
       "       [3, 4, 7, 8]])"
      ]
     },
     "execution_count": 18,
     "metadata": {},
     "output_type": "execute_result"
    }
   ],
   "source": [
    "np.hstack((arr_1, arr_2))"
   ]
  },
  {
   "cell_type": "code",
   "execution_count": 19,
   "id": "6b929676-ba67-4d20-b167-d40bdc129c6b",
   "metadata": {},
   "outputs": [
    {
     "data": {
      "text/plain": [
       "array([[1, 2],\n",
       "       [3, 4],\n",
       "       [5, 6],\n",
       "       [7, 8]])"
      ]
     },
     "execution_count": 19,
     "metadata": {},
     "output_type": "execute_result"
    }
   ],
   "source": [
    "np.vstack((arr_1, arr_2))"
   ]
  },
  {
   "cell_type": "code",
   "execution_count": 20,
   "id": "0d950e71-a4b5-4380-b0a8-18469b44b2e1",
   "metadata": {},
   "outputs": [
    {
     "data": {
      "text/plain": [
       "array([[[1, 5],\n",
       "        [2, 6]],\n",
       "\n",
       "       [[3, 7],\n",
       "        [4, 8]]])"
      ]
     },
     "execution_count": 20,
     "metadata": {},
     "output_type": "execute_result"
    }
   ],
   "source": [
    "np.dstack((arr_1, arr_2))"
   ]
  },
  {
   "cell_type": "code",
   "execution_count": 21,
   "id": "adfcb540-64d1-421c-b727-21f624087d53",
   "metadata": {},
   "outputs": [
    {
     "name": "stdout",
     "output_type": "stream",
     "text": [
      "SEARCHING ARRAY\n",
      "(array([0, 1, 2], dtype=int64), array([0, 2, 2], dtype=int64))\n"
     ]
    }
   ],
   "source": [
    "arr = np.array([['a', 'b', 'c'], ['d', 'e', 'a'], ['g', 'h', 'a'], ['j', 'k', 'l'], ['m', 't', 'o'], ['p', 'q', 'r']])\n",
    "x = np.where(arr == 'a')\n",
    "print(\"SEARCHING ARRAY\")\n",
    "print(x)"
   ]
  },
  {
   "cell_type": "code",
   "execution_count": 22,
   "id": "19f48f60-3cd8-4026-be4c-f7357b495f6f",
   "metadata": {},
   "outputs": [
    {
     "name": "stdout",
     "output_type": "stream",
     "text": [
      "(array([1, 3, 5, 7], dtype=int64),)\n"
     ]
    }
   ],
   "source": [
    "arr = np.array([1, 2, 3, 4, 5, 6, 7, 8])\n",
    "x = np.where(arr % 2 == 0)\n",
    "print(x)"
   ]
  },
  {
   "cell_type": "code",
   "execution_count": 23,
   "id": "472b1503-fee8-46d8-959b-111b6e8b419e",
   "metadata": {},
   "outputs": [
    {
     "data": {
      "text/plain": [
       "1"
      ]
     },
     "execution_count": 23,
     "metadata": {},
     "output_type": "execute_result"
    }
   ],
   "source": [
    "arr = np.array([6, 8, 9, 7])\n",
    "np.searchsorted(arr, 7)"
   ]
  },
  {
   "cell_type": "code",
   "execution_count": 24,
   "id": "a447414c-87fa-4fe5-8b1c-e38960dc44c6",
   "metadata": {},
   "outputs": [
    {
     "data": {
      "text/plain": [
       "1"
      ]
     },
     "execution_count": 24,
     "metadata": {},
     "output_type": "execute_result"
    }
   ],
   "source": [
    "np.searchsorted(arr, 7, side='right')"
   ]
  },
  {
   "cell_type": "code",
   "execution_count": 26,
   "id": "90b76a09-8c31-40e3-bcfe-1bdf8525d245",
   "metadata": {},
   "outputs": [
    {
     "data": {
      "text/plain": [
       "array([1, 2, 4], dtype=int64)"
      ]
     },
     "execution_count": 26,
     "metadata": {},
     "output_type": "execute_result"
    }
   ],
   "source": [
    "arr = np.array([1, 3, 5, 7])\n",
    "np.searchsorted(arr, [2, 4, 8])"
   ]
  }
 ],
 "metadata": {
  "kernelspec": {
   "display_name": "Python 3 (ipykernel)",
   "language": "python",
   "name": "python3"
  },
  "language_info": {
   "codemirror_mode": {
    "name": "ipython",
    "version": 3
   },
   "file_extension": ".py",
   "mimetype": "text/x-python",
   "name": "python",
   "nbconvert_exporter": "python",
   "pygments_lexer": "ipython3",
   "version": "3.9.7"
  }
 },
 "nbformat": 4,
 "nbformat_minor": 5
}
